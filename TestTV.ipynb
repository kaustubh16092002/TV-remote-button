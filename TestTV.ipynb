{
 "cells": [
  {
   "cell_type": "code",
   "execution_count": 1,
   "id": "911bbc4b",
   "metadata": {},
   "outputs": [
    {
     "name": "stdout",
     "output_type": "stream",
     "text": [
      "TV1's channel is  30 and volume level is  3\n",
      "TV2's channel is  3 and volume level is  2\n"
     ]
    }
   ],
   "source": [
    "from TV import TV\n",
    "def main():\n",
    "    tv1=TV()\n",
    "    tv1.turnon()\n",
    "    tv1.setchannel(30)\n",
    "    tv1.setvolume(3)\n",
    "    \n",
    "    tv2=TV()\n",
    "    tv2.turnon()\n",
    "    tv2.channelup()\n",
    "    tv2.channelup()\n",
    "    tv2.volumeup()\n",
    "    \n",
    "    print(\"TV1's channel is \",tv1.getchannel(),\"and volume level is \",tv1.getvolumelevel())\n",
    "    print(\"TV2's channel is \",tv2.getchannel(),\"and volume level is \",tv2.getvolumelevel())\n",
    "    \n",
    "main()    "
   ]
  },
  {
   "cell_type": "code",
   "execution_count": null,
   "id": "53168a94",
   "metadata": {},
   "outputs": [],
   "source": []
  }
 ],
 "metadata": {
  "kernelspec": {
   "display_name": "Python 3",
   "language": "python",
   "name": "python3"
  },
  "language_info": {
   "codemirror_mode": {
    "name": "ipython",
    "version": 3
   },
   "file_extension": ".py",
   "mimetype": "text/x-python",
   "name": "python",
   "nbconvert_exporter": "python",
   "pygments_lexer": "ipython3",
   "version": "3.8.8"
  }
 },
 "nbformat": 4,
 "nbformat_minor": 5
}
